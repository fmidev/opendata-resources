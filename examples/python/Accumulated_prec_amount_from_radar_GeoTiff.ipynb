{
 "cells": [
  {
   "cell_type": "markdown",
   "metadata": {},
   "source": [
    "# Calculate precipitation sum from GeoTiff radar images"
   ]
  },
  {
   "cell_type": "markdown",
   "metadata": {},
   "source": [
    "Finnish Meteorological Institute is providing radar images as GeoTiff in S3 bucket. The data is free and openly available with CC4BY license.\n",
    "\n",
    "This is a short and simple example how to calculate accumulated precipitation amount from GeoTiff radar images of precipitation rate (rr) with 5 minute interval. The example is ment to illustrate how to use the data with python.  "
   ]
  },
  {
   "cell_type": "markdown",
   "metadata": {},
   "source": [
    "First we install necessary libraries. Rasterio (https://github.com/mapbox/rasterio) is used to fetch the data and pyproj (https://pypi.org/project/pyproj/) to calculate coordinate transformations."
   ]
  },
  {
   "cell_type": "code",
   "execution_count": 1,
   "metadata": {},
   "outputs": [
    {
     "name": "stdout",
     "output_type": "stream",
     "text": [
      "Requirement already satisfied: rasterio[s3] in /home/ec2-user/anaconda3/envs/python3/lib/python3.6/site-packages (1.1.5)\n",
      "Requirement already satisfied: snuggs>=1.4.1 in /home/ec2-user/anaconda3/envs/python3/lib/python3.6/site-packages (from rasterio[s3]) (1.4.7)\n",
      "Requirement already satisfied: attrs in /home/ec2-user/anaconda3/envs/python3/lib/python3.6/site-packages (from rasterio[s3]) (18.1.0)\n",
      "Requirement already satisfied: affine in /home/ec2-user/anaconda3/envs/python3/lib/python3.6/site-packages (from rasterio[s3]) (2.3.0)\n",
      "Requirement already satisfied: numpy in /home/ec2-user/anaconda3/envs/python3/lib/python3.6/site-packages (from rasterio[s3]) (1.18.1)\n",
      "Requirement already satisfied: click<8,>=4.0 in /home/ec2-user/anaconda3/envs/python3/lib/python3.6/site-packages (from rasterio[s3]) (6.7)\n",
      "Requirement already satisfied: click-plugins in /home/ec2-user/anaconda3/envs/python3/lib/python3.6/site-packages (from rasterio[s3]) (1.1.1)\n",
      "Requirement already satisfied: cligj>=0.5 in /home/ec2-user/anaconda3/envs/python3/lib/python3.6/site-packages (from rasterio[s3]) (0.5.0)\n",
      "Requirement already satisfied: boto3>=1.2.4; extra == \"s3\" in /home/ec2-user/anaconda3/envs/python3/lib/python3.6/site-packages (from rasterio[s3]) (1.12.39)\n",
      "Requirement already satisfied: pyparsing>=2.1.6 in /home/ec2-user/anaconda3/envs/python3/lib/python3.6/site-packages (from snuggs>=1.4.1->rasterio[s3]) (2.2.0)\n",
      "Requirement already satisfied: jmespath<1.0.0,>=0.7.1 in /home/ec2-user/anaconda3/envs/python3/lib/python3.6/site-packages (from boto3>=1.2.4; extra == \"s3\"->rasterio[s3]) (0.9.4)\n",
      "Requirement already satisfied: botocore<1.16.0,>=1.15.39 in /home/ec2-user/anaconda3/envs/python3/lib/python3.6/site-packages (from boto3>=1.2.4; extra == \"s3\"->rasterio[s3]) (1.15.39)\n",
      "Requirement already satisfied: s3transfer<0.4.0,>=0.3.0 in /home/ec2-user/anaconda3/envs/python3/lib/python3.6/site-packages (from boto3>=1.2.4; extra == \"s3\"->rasterio[s3]) (0.3.3)\n",
      "Requirement already satisfied: docutils<0.16,>=0.10 in /home/ec2-user/anaconda3/envs/python3/lib/python3.6/site-packages (from botocore<1.16.0,>=1.15.39->boto3>=1.2.4; extra == \"s3\"->rasterio[s3]) (0.14)\n",
      "Requirement already satisfied: python-dateutil<3.0.0,>=2.1 in /home/ec2-user/anaconda3/envs/python3/lib/python3.6/site-packages (from botocore<1.16.0,>=1.15.39->boto3>=1.2.4; extra == \"s3\"->rasterio[s3]) (2.7.3)\n",
      "Requirement already satisfied: urllib3<1.26,>=1.20; python_version != \"3.4\" in /home/ec2-user/anaconda3/envs/python3/lib/python3.6/site-packages (from botocore<1.16.0,>=1.15.39->boto3>=1.2.4; extra == \"s3\"->rasterio[s3]) (1.23)\n",
      "Requirement already satisfied: six>=1.5 in /home/ec2-user/anaconda3/envs/python3/lib/python3.6/site-packages (from python-dateutil<3.0.0,>=2.1->botocore<1.16.0,>=1.15.39->boto3>=1.2.4; extra == \"s3\"->rasterio[s3]) (1.11.0)\n"
     ]
    }
   ],
   "source": [
    "!pip install rasterio[s3]"
   ]
  },
  {
   "cell_type": "code",
   "execution_count": 2,
   "metadata": {},
   "outputs": [],
   "source": [
    "import rasterio as rio\n",
    "from datetime import datetime, timedelta\n",
    "from pyproj import Proj, Transformer"
   ]
  },
  {
   "cell_type": "markdown",
   "metadata": {},
   "source": [
    "Small helper function to handle time steps."
   ]
  },
  {
   "cell_type": "code",
   "execution_count": 3,
   "metadata": {},
   "outputs": [],
   "source": [
    "def roundTime(dt, roundTo=300):\n",
    "   \"\"\"\n",
    "   Round a datetime object to any time lapse in seconds\n",
    "   \n",
    "   dt      : datetime.datetime object\n",
    "             DateTime to round\n",
    "   roundTo : int\n",
    "             Closest number of seconds to round to, default 1 minute. \n",
    "   \n",
    "   Returns\n",
    "   -------\n",
    "   datetime.datetime object\n",
    "            Modified datetime   \n",
    "   \"\"\"\n",
    "   seconds = (dt.replace(tzinfo=None) - dt.min).seconds\n",
    "   rounding = (seconds+roundTo/2) // roundTo * roundTo\n",
    "   return dt + timedelta(0,rounding-seconds,-dt.microsecond)"
   ]
  },
  {
   "cell_type": "markdown",
   "metadata": {},
   "source": [
    "Following function opens the geotiff image from S3 bucket and sample pixel value from requested coordinates. Note that images are in EPSG:3067 projection so we need to reproject the coordinates. \n",
    "\n",
    "Finally, pixel values are converted to millimeters. Conversions are documented here: https://en.ilmatieteenlaitos.fi/open-data-manual-radar-data."
   ]
  },
  {
   "cell_type": "code",
   "execution_count": 4,
   "metadata": {},
   "outputs": [],
   "source": [
    "def process_timestep(bucket, key, lat, lon, mode='rr', timestep=300):\n",
    "    \"\"\" Process time step\n",
    "    \n",
    "    bucket   : str \n",
    "               S3 bucket name (where radar images exist)\n",
    "    key      : str\n",
    "               Radar image key in the bucket\n",
    "    lat      : float\n",
    "               Latitude of the point of interest\n",
    "    lon      : float\n",
    "               Longitude of the point of interest    \n",
    "    mode     : str\n",
    "               Defines how pixel values are converted to millimeters\n",
    "    timestep : int\n",
    "               Time step of radar images (used in pixel --> mm conversion)\n",
    "\n",
    "    Returns\n",
    "    -------\n",
    "    float \n",
    "         Precipitation amount in millimeters\n",
    "    \"\"\"\n",
    "\n",
    "    transformer = Transformer.from_crs(\"epsg:4326\", \"epsg:3067\")\n",
    "    x,y = transformer.transform(lat, lon)\n",
    "    \n",
    "    with rio.open('s3://{}/{}'.format(bucket, key)) as src:\n",
    "        #print(src.profile)\n",
    "        for val in src.sample([(x, y)]):\n",
    "            if mode == 'rr':\n",
    "                return val[0]*.01*timestep/3600\n",
    "            else:\n",
    "                raise Exception('mode not implemented')\n",
    "        \n",
    "    return 0"
   ]
  },
  {
   "cell_type": "markdown",
   "metadata": {},
   "source": [
    "Last, we define a function to go through requested time range"
   ]
  },
  {
   "cell_type": "code",
   "execution_count": 5,
   "metadata": {},
   "outputs": [],
   "source": [
    "def process_time_range(bucket, starttime, endtime, lat, lon, timestep, mode = 'rr', filename_start='', filename_end='_SUOMI500-rr.tif'):\n",
    "    \"\"\" Process time range \n",
    "    bucket    : str \n",
    "                S3 bucket name (where radar images exist)\n",
    "    starttime : str\n",
    "                Start time of the time range in format %Y-%m-%d %H:%M:%S\n",
    "    endtime   : str\n",
    "                End time of the time range in format %Y-%m-%d %H:%M:%S                \n",
    "    lat       : float\n",
    "                Latitude of the point of interest\n",
    "    lon       : float\n",
    "                Longitude of the point of interest    \n",
    "    timestep  : int\n",
    "                Time step of radar images\n",
    "    mode      : str\n",
    "                Defines how pixel values are converted to millimeters\n",
    "    filename_start : str\n",
    "                     For example path of the image. Images are assumed to found with name \n",
    "                     filename_start+timestamp+filename_end.  \n",
    "    filename_start : str\n",
    "                 Images are assumed to found with name filename_start+timestamp+filename_end.  \n",
    "                      \n",
    "    Returns\n",
    "    -------\n",
    "    float \n",
    "         Precipitation amount in millimeters\n",
    "    \n",
    "    \"\"\"\n",
    "    \n",
    "    start = roundTime(datetime.strptime(starttime, '%Y-%m-%d %H:%M:%S'))\n",
    "    end = roundTime(datetime.strptime(endtime, '%Y-%m-%d %H:%M:%S'))    \n",
    "    time_it = start\n",
    "    \n",
    "    prec_sum = 0\n",
    "    while time_it <= end:\n",
    "        key = '{}{}{}'.format(filename_start, time_it.strftime('%Y%m%d%H%M'), filename_end)\n",
    "        prec_sum += process_timestep(bucket, key, lat, lon, timestep=timestep)\n",
    "\n",
    "        if time_it.minute == 0: print('{:.2f}'.format(prec_sum), end='')\n",
    "        else: print('.', end='')\n",
    "            \n",
    "        time_it +=  timedelta(seconds=timestep)\n",
    "\n",
    "    print('')\n",
    "    return prec_sum"
   ]
  },
  {
   "cell_type": "markdown",
   "metadata": {},
   "source": [
    "And finally we run everything:"
   ]
  },
  {
   "cell_type": "code",
   "execution_count": 6,
   "metadata": {},
   "outputs": [
    {
     "name": "stdout",
     "output_type": "stream",
     "text": [
      "0.00...........0.00...........0.03...........0.08...........0.09...........0.09...........0.09...........0.28...........0.30...........0.93...........2.14...........2.21...........2.51...........4.24...........4.63...........4.63...........5.13...........8.11...........8.11...........8.11...........8.11...........8.11...........8.11...........8.11...........8.11\n",
      "Precipitation sum at 63.1593,29.8346 (Koli, Finland) on 10th July 2020 is 8.11 mm\n"
     ]
    }
   ],
   "source": [
    "bucket = 'fmi-radar-opendata-sandbox'\n",
    "starttime = '2020-07-10 00:00:00'\n",
    "endtime = '2020-07-10 23:59:00'\n",
    "lat = 63.1593\n",
    "lon = 29.8346\n",
    "\n",
    "prec_sum = process_time_range(bucket, starttime, endtime, lat, lon, 300)\n",
    "print('Precipitation sum at {},{} (Koli, Finland) on 10th July 2020 is {:.2f} mm'.format(lat,lon,prec_sum))"
   ]
  }
 ],
 "metadata": {
  "kernelspec": {
   "display_name": "conda_python3",
   "language": "python",
   "name": "conda_python3"
  },
  "language_info": {
   "codemirror_mode": {
    "name": "ipython",
    "version": 3
   },
   "file_extension": ".py",
   "mimetype": "text/x-python",
   "name": "python",
   "nbconvert_exporter": "python",
   "pygments_lexer": "ipython3",
   "version": "3.6.5"
  }
 },
 "nbformat": 4,
 "nbformat_minor": 4
}
