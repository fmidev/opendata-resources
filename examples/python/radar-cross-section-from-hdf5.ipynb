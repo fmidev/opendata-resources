{
 "cells": [
  {
   "cell_type": "markdown",
   "metadata": {},
   "source": [
    "# Cross section from radar HDF5-files"
   ]
  },
  {
   "cell_type": "markdown",
   "metadata": {},
   "source": [
    "TODO \n",
    "\n",
    "Finnish Meteorological Institute is providing radar images as GeoTiff in S3 bucket. The data is free and openly available with CC4BY license.\n",
    "\n",
    "This is a short and simple example how to calculate accumulated precipitation amount from GeoTiff radar images of precipitation rate (rr) with 5 minute interval. The example is ment to illustrate how to use the data with python.  "
   ]
  },
  {
   "cell_type": "markdown",
   "metadata": {},
   "source": [
    "First we install necessary libraries. Rasterio (https://github.com/mapbox/rasterio) is used to fetch the data and pyproj (https://pypi.org/project/pyproj/) to calculate coordinate transformations.\n"
   ]
  },
  {
   "cell_type": "code",
   "execution_count": 3,
   "metadata": {
    "collapsed": true,
    "jupyter": {
     "outputs_hidden": true
    }
   },
   "outputs": [
    {
     "name": "stdout",
     "output_type": "stream",
     "text": [
      "Loaded plugins: dkms-build-requires, priorities, update-motd, upgrade-helper,\n",
      "              : versionlock\n",
      "amzn-main                                                | 2.1 kB     00:00     \n",
      "amzn-updates                                             | 3.8 kB     00:00     \n",
      "1072 packages excluded due to repository priority protections\n",
      "Package netcdf4-python-1.0.2-1.el6.x86_64 already installed and latest version\n",
      "Package gdal-1.7.3-15.el6.x86_64 already installed and latest version\n",
      "Package gdal-python-1.7.3-15.el6.x86_64 already installed and latest version\n",
      "Nothing to do\n"
     ]
    }
   ],
   "source": [
    "!sudo yum install -y --enablerepo=\"epel\" netcdf4-python gdal gdal-python"
   ]
  },
  {
   "cell_type": "markdown",
   "metadata": {},
   "source": [
    "```\n",
    "conda create -c conda-forge --name fmiopendata ipykernel gdal dask arm_pyart xarray h5py h5netcdf tqdm\n",
    "python -m ipykernel install --user --name fmiopendata --display-name \"fmiopendata\"\n",
    "conda env export --name fmiopendata --file ~/fmiopendata.yml\n",
    "```"
   ]
  },
  {
   "cell_type": "code",
   "execution_count": 4,
   "metadata": {
    "collapsed": true,
    "jupyter": {
     "outputs_hidden": true
    }
   },
   "outputs": [
    {
     "name": "stdout",
     "output_type": "stream",
     "text": [
      "Requirement already up-to-date: rasterio[s3] in /home/ec2-user/anaconda3/lib/python3.7/site-packages (1.1.5)\n",
      "Requirement already up-to-date: xarray in /home/ec2-user/anaconda3/lib/python3.7/site-packages (0.16.0)\n",
      "Requirement already up-to-date: s3fs in /home/ec2-user/anaconda3/lib/python3.7/site-packages (0.4.2)\n",
      "Requirement already up-to-date: h5py in /home/ec2-user/anaconda3/lib/python3.7/site-packages (2.10.0)\n",
      "Requirement already up-to-date: h5netcdf in /home/ec2-user/anaconda3/lib/python3.7/site-packages (0.8.0)\n",
      "Requirement already up-to-date: tqdm in /home/ec2-user/anaconda3/lib/python3.7/site-packages (4.48.0)\n",
      "Requirement already up-to-date: dask[complete] in /home/ec2-user/anaconda3/lib/python3.7/site-packages (2.20.0)\n",
      "Requirement already satisfied, skipping upgrade: attrs in /home/ec2-user/anaconda3/lib/python3.7/site-packages (from rasterio[s3]) (19.3.0)\n",
      "Requirement already satisfied, skipping upgrade: affine in /home/ec2-user/anaconda3/lib/python3.7/site-packages (from rasterio[s3]) (2.3.0)\n",
      "Requirement already satisfied, skipping upgrade: click-plugins in /home/ec2-user/anaconda3/lib/python3.7/site-packages (from rasterio[s3]) (1.1.1)\n",
      "Requirement already satisfied, skipping upgrade: numpy in /home/ec2-user/anaconda3/lib/python3.7/site-packages (from rasterio[s3]) (1.18.1)\n",
      "Requirement already satisfied, skipping upgrade: click<8,>=4.0 in /home/ec2-user/anaconda3/lib/python3.7/site-packages (from rasterio[s3]) (7.1.1)\n",
      "Requirement already satisfied, skipping upgrade: snuggs>=1.4.1 in /home/ec2-user/anaconda3/lib/python3.7/site-packages (from rasterio[s3]) (1.4.7)\n",
      "Requirement already satisfied, skipping upgrade: cligj>=0.5 in /home/ec2-user/anaconda3/lib/python3.7/site-packages (from rasterio[s3]) (0.5.0)\n",
      "Requirement already satisfied, skipping upgrade: boto3>=1.2.4; extra == \"s3\" in /home/ec2-user/anaconda3/lib/python3.7/site-packages (from rasterio[s3]) (1.14.16)\n",
      "Requirement already satisfied, skipping upgrade: pandas>=0.25 in /home/ec2-user/anaconda3/lib/python3.7/site-packages (from xarray) (1.0.3)\n",
      "Requirement already satisfied, skipping upgrade: setuptools>=41.2 in /home/ec2-user/anaconda3/lib/python3.7/site-packages (from xarray) (46.1.3.post20200330)\n",
      "Requirement already satisfied, skipping upgrade: fsspec>=0.6.0 in /home/ec2-user/anaconda3/lib/python3.7/site-packages (from s3fs) (0.7.1)\n",
      "Requirement already satisfied, skipping upgrade: botocore>=1.12.91 in /home/ec2-user/anaconda3/lib/python3.7/site-packages (from s3fs) (1.17.16)\n",
      "Requirement already satisfied, skipping upgrade: six in /home/ec2-user/anaconda3/lib/python3.7/site-packages (from h5py) (1.14.0)\n",
      "Requirement already satisfied, skipping upgrade: pyyaml in /home/ec2-user/anaconda3/lib/python3.7/site-packages (from dask[complete]) (5.3.1)\n",
      "Requirement already satisfied, skipping upgrade: partd>=0.3.10; extra == \"complete\" in /home/ec2-user/anaconda3/lib/python3.7/site-packages (from dask[complete]) (1.1.0)\n",
      "Requirement already satisfied, skipping upgrade: toolz>=0.8.2; extra == \"complete\" in /home/ec2-user/anaconda3/lib/python3.7/site-packages (from dask[complete]) (0.10.0)\n",
      "Requirement already satisfied, skipping upgrade: bokeh>=1.0.0; extra == \"complete\" in /home/ec2-user/anaconda3/lib/python3.7/site-packages (from dask[complete]) (2.0.1)\n",
      "Requirement already satisfied, skipping upgrade: distributed>=2.0; extra == \"complete\" in /home/ec2-user/anaconda3/lib/python3.7/site-packages (from dask[complete]) (2.14.0)\n",
      "Requirement already satisfied, skipping upgrade: cloudpickle>=0.2.2; extra == \"complete\" in /home/ec2-user/anaconda3/lib/python3.7/site-packages (from dask[complete]) (1.3.0)\n",
      "Requirement already satisfied, skipping upgrade: pyparsing>=2.1.6 in /home/ec2-user/anaconda3/lib/python3.7/site-packages (from snuggs>=1.4.1->rasterio[s3]) (2.4.6)\n",
      "Requirement already satisfied, skipping upgrade: s3transfer<0.4.0,>=0.3.0 in /home/ec2-user/anaconda3/lib/python3.7/site-packages (from boto3>=1.2.4; extra == \"s3\"->rasterio[s3]) (0.3.3)\n",
      "Requirement already satisfied, skipping upgrade: jmespath<1.0.0,>=0.7.1 in /home/ec2-user/anaconda3/lib/python3.7/site-packages (from boto3>=1.2.4; extra == \"s3\"->rasterio[s3]) (0.9.4)\n",
      "Requirement already satisfied, skipping upgrade: pytz>=2017.2 in /home/ec2-user/anaconda3/lib/python3.7/site-packages (from pandas>=0.25->xarray) (2019.3)\n",
      "Requirement already satisfied, skipping upgrade: python-dateutil>=2.6.1 in /home/ec2-user/anaconda3/lib/python3.7/site-packages (from pandas>=0.25->xarray) (2.8.1)\n",
      "Requirement already satisfied, skipping upgrade: docutils<0.16,>=0.10 in /home/ec2-user/anaconda3/lib/python3.7/site-packages (from botocore>=1.12.91->s3fs) (0.15.2)\n",
      "Requirement already satisfied, skipping upgrade: urllib3<1.26,>=1.20; python_version != \"3.4\" in /home/ec2-user/anaconda3/lib/python3.7/site-packages (from botocore>=1.12.91->s3fs) (1.25.8)\n",
      "Requirement already satisfied, skipping upgrade: locket in /home/ec2-user/anaconda3/lib/python3.7/site-packages (from partd>=0.3.10; extra == \"complete\"->dask[complete]) (0.2.0)\n",
      "Requirement already satisfied, skipping upgrade: Jinja2>=2.7 in /home/ec2-user/anaconda3/lib/python3.7/site-packages (from bokeh>=1.0.0; extra == \"complete\"->dask[complete]) (2.11.1)\n",
      "Requirement already satisfied, skipping upgrade: typing-extensions>=3.7.4 in /home/ec2-user/anaconda3/lib/python3.7/site-packages (from bokeh>=1.0.0; extra == \"complete\"->dask[complete]) (3.7.4.1)\n",
      "Requirement already satisfied, skipping upgrade: pillow>=4.0 in /home/ec2-user/anaconda3/lib/python3.7/site-packages (from bokeh>=1.0.0; extra == \"complete\"->dask[complete]) (7.0.0)\n",
      "Requirement already satisfied, skipping upgrade: packaging>=16.8 in /home/ec2-user/anaconda3/lib/python3.7/site-packages (from bokeh>=1.0.0; extra == \"complete\"->dask[complete]) (20.3)\n",
      "Requirement already satisfied, skipping upgrade: tornado>=5 in /home/ec2-user/anaconda3/lib/python3.7/site-packages (from bokeh>=1.0.0; extra == \"complete\"->dask[complete]) (6.0.4)\n",
      "Requirement already satisfied, skipping upgrade: psutil>=5.0 in /home/ec2-user/anaconda3/lib/python3.7/site-packages (from distributed>=2.0; extra == \"complete\"->dask[complete]) (5.7.0)\n",
      "Requirement already satisfied, skipping upgrade: tblib>=1.6.0 in /home/ec2-user/anaconda3/lib/python3.7/site-packages (from distributed>=2.0; extra == \"complete\"->dask[complete]) (1.6.0)\n",
      "Requirement already satisfied, skipping upgrade: zict>=0.1.3 in /home/ec2-user/anaconda3/lib/python3.7/site-packages (from distributed>=2.0; extra == \"complete\"->dask[complete]) (2.0.0)\n",
      "Requirement already satisfied, skipping upgrade: sortedcontainers!=2.0.0,!=2.0.1 in /home/ec2-user/anaconda3/lib/python3.7/site-packages (from distributed>=2.0; extra == \"complete\"->dask[complete]) (2.1.0)\n",
      "Requirement already satisfied, skipping upgrade: msgpack>=0.6.0 in /home/ec2-user/anaconda3/lib/python3.7/site-packages (from distributed>=2.0; extra == \"complete\"->dask[complete]) (1.0.0)\n",
      "Requirement already satisfied, skipping upgrade: MarkupSafe>=0.23 in /home/ec2-user/anaconda3/lib/python3.7/site-packages (from Jinja2>=2.7->bokeh>=1.0.0; extra == \"complete\"->dask[complete]) (1.1.1)\n",
      "Requirement already satisfied, skipping upgrade: heapdict in /home/ec2-user/anaconda3/lib/python3.7/site-packages (from zict>=0.1.3->distributed>=2.0; extra == \"complete\"->dask[complete]) (1.0.1)\n",
      "\u001b[33mWARNING: You are using pip version 20.0.2; however, version 20.1.1 is available.\n",
      "You should consider upgrading via the '/home/ec2-user/anaconda3/bin/python -m pip install --upgrade pip' command.\u001b[0m\n"
     ]
    }
   ],
   "source": [
    "!pip install --upgrade xarray h5py h5netcdf tqdm"
   ]
  },
  {
   "cell_type": "code",
   "execution_count": 4,
   "metadata": {
    "collapsed": true,
    "jupyter": {
     "outputs_hidden": true
    }
   },
   "outputs": [
    {
     "name": "stdout",
     "output_type": "stream",
     "text": [
      "Collecting package metadata (current_repodata.json): done\n",
      "Solving environment: done\n",
      "\n",
      "## Package Plan ##\n",
      "\n",
      "  environment location: /home/ec2-user/anaconda3/envs/JupyterSystemEnv\n",
      "\n",
      "  added / updated specs:\n",
      "    - dask\n",
      "\n",
      "\n",
      "The following packages will be downloaded:\n",
      "\n",
      "    package                    |            build\n",
      "    ---------------------------|-----------------\n",
      "    bokeh-2.1.1                |           py36_0         5.4 MB\n",
      "    distributed-2.20.0         |           py36_0        1011 KB\n",
      "    immutables-0.14            |   py36h7b6447c_0          70 KB\n",
      "    pillow-7.2.0               |   py36hb39fc2d_0         619 KB\n",
      "    pyyaml-5.3.1               |   py36h7b6447c_1         180 KB\n",
      "    ------------------------------------------------------------\n",
      "                                           Total:         7.3 MB\n",
      "\n",
      "The following NEW packages will be INSTALLED:\n",
      "\n",
      "  bokeh              pkgs/main/linux-64::bokeh-2.1.1-py36_0\n",
      "  click              pkgs/main/noarch::click-7.1.2-py_0\n",
      "  cloudpickle        pkgs/main/noarch::cloudpickle-1.5.0-py_0\n",
      "  contextvars        pkgs/main/noarch::contextvars-2.4-py_0\n",
      "  cytoolz            pkgs/main/linux-64::cytoolz-0.10.1-py36h7b6447c_0\n",
      "  dask               pkgs/main/noarch::dask-2.20.0-py_0\n",
      "  dask-core          pkgs/main/noarch::dask-core-2.20.0-py_0\n",
      "  distributed        pkgs/main/linux-64::distributed-2.20.0-py36_0\n",
      "  heapdict           pkgs/main/noarch::heapdict-1.0.1-py_0\n",
      "  immutables         pkgs/main/linux-64::immutables-0.14-py36h7b6447c_0\n",
      "  lcms2              pkgs/main/linux-64::lcms2-2.11-h396b838_0\n",
      "  locket             pkgs/main/linux-64::locket-0.2.0-py36_1\n",
      "  msgpack-python     pkgs/main/linux-64::msgpack-python-1.0.0-py36hfd86e86_1\n",
      "  olefile            pkgs/main/linux-64::olefile-0.46-py36_0\n",
      "  partd              pkgs/main/noarch::partd-1.1.0-py_0\n",
      "  pillow             pkgs/main/linux-64::pillow-7.2.0-py36hb39fc2d_0\n",
      "  psutil             pkgs/main/linux-64::psutil-5.7.0-py36h7b6447c_0\n",
      "  pyyaml             pkgs/main/linux-64::pyyaml-5.3.1-py36h7b6447c_1\n",
      "  sortedcontainers   pkgs/main/noarch::sortedcontainers-2.2.2-py_0\n",
      "  tblib              pkgs/main/noarch::tblib-1.6.0-py_0\n",
      "  toolz              pkgs/main/noarch::toolz-0.10.0-py_0\n",
      "  typing_extensions  pkgs/main/noarch::typing_extensions-3.7.4.2-py_0\n",
      "  yaml               pkgs/main/linux-64::yaml-0.2.5-h7b6447c_0\n",
      "  zict               pkgs/main/noarch::zict-2.0.0-py_0\n",
      "\n",
      "\n",
      "\n",
      "Downloading and Extracting Packages\n",
      "bokeh-2.1.1          | 5.4 MB    | ##################################### | 100% \n",
      "pyyaml-5.3.1         | 180 KB    | ##################################### | 100% \n",
      "immutables-0.14      | 70 KB     | ##################################### | 100% \n",
      "distributed-2.20.0   | 1011 KB   | ##################################### | 100% \n",
      "pillow-7.2.0         | 619 KB    | ##################################### | 100% \n",
      "Preparing transaction: done\n",
      "Verifying transaction: done\n",
      "Executing transaction: done\n"
     ]
    }
   ],
   "source": [
    "!conda install -y dask"
   ]
  },
  {
   "cell_type": "code",
   "execution_count": 36,
   "metadata": {},
   "outputs": [
    {
     "name": "stdout",
     "output_type": "stream",
     "text": [
      "Collecting package metadata (current_repodata.json): done\n",
      "Solving environment: failed with initial frozen solve. Retrying with flexible solve.\n",
      "Solving environment: failed with repodata from current_repodata.json, will retry with next repodata source.\n",
      "Collecting package metadata (repodata.json): done\n",
      "Solving environment: done\n",
      "\n",
      "## Package Plan ##\n",
      "\n",
      "  environment location: /home/ec2-user/anaconda3/envs/JupyterSystemEnv\n",
      "\n",
      "  added / updated specs:\n",
      "    - arm_pyart\n",
      "\n",
      "\n",
      "The following packages will be downloaded:\n",
      "\n",
      "    package                    |            build\n",
      "    ---------------------------|-----------------\n",
      "    arm_pyart-1.11.1           |   py36h785e9b2_1         3.2 MB  conda-forge\n",
      "    cftime-1.2.0               |   py36h785e9b2_1         274 KB  conda-forge\n",
      "    cycler-0.10.0              |             py_2           9 KB  conda-forge\n",
      "    kiwisolver-1.2.0           |   py36hdb11119_0          87 KB  conda-forge\n",
      "    matplotlib-base-3.1.1      |   py36hfd891ef_0         6.7 MB  conda-forge\n",
      "    netcdf4-1.4.2              |   py36h808af73_0         480 KB\n",
      "    scipy-1.5.1                |   py36h2d22cac_0        18.5 MB  conda-forge\n",
      "    trmm_rsl-1.49              |                3         609 KB  conda-forge\n",
      "    xarray-0.16.0              |             py_0         514 KB  conda-forge\n",
      "    ------------------------------------------------------------\n",
      "                                           Total:        30.3 MB\n",
      "\n",
      "The following NEW packages will be INSTALLED:\n",
      "\n",
      "  arm_pyart          conda-forge/linux-64::arm_pyart-1.11.1-py36h785e9b2_1\n",
      "  cftime             conda-forge/linux-64::cftime-1.2.0-py36h785e9b2_1\n",
      "  cycler             conda-forge/noarch::cycler-0.10.0-py_2\n",
      "  kiwisolver         conda-forge/linux-64::kiwisolver-1.2.0-py36hdb11119_0\n",
      "  matplotlib-base    conda-forge/linux-64::matplotlib-base-3.1.1-py36hfd891ef_0\n",
      "  netcdf4            pkgs/main/linux-64::netcdf4-1.4.2-py36h808af73_0\n",
      "  scipy              conda-forge/linux-64::scipy-1.5.1-py36h2d22cac_0\n",
      "  trmm_rsl           conda-forge/linux-64::trmm_rsl-1.49-3\n",
      "  xarray             conda-forge/noarch::xarray-0.16.0-py_0\n",
      "\n",
      "The following packages will be SUPERSEDED by a higher-priority channel:\n",
      "\n",
      "  ca-certificates    pkgs/main::ca-certificates-2020.6.24-0 --> conda-forge::ca-certificates-2020.6.20-hecda079_0\n",
      "  certifi               pkgs/main::certifi-2020.6.20-py36_0 --> conda-forge::certifi-2020.6.20-py36h9f0ad1d_0\n",
      "  openssl              pkgs/main::openssl-1.1.1g-h7b6447c_0 --> conda-forge::openssl-1.1.1g-h516909a_0\n",
      "\n",
      "\n",
      "\n",
      "Downloading and Extracting Packages\n",
      "xarray-0.16.0        | 514 KB    | ##################################### | 100% \n",
      "cycler-0.10.0        | 9 KB      | ##################################### | 100% \n",
      "matplotlib-base-3.1. | 6.7 MB    | ##################################### | 100% \n",
      "arm_pyart-1.11.1     | 3.2 MB    | ##################################### | 100% \n",
      "kiwisolver-1.2.0     | 87 KB     | ##################################### | 100% \n",
      "cftime-1.2.0         | 274 KB    | ##################################### | 100% \n",
      "scipy-1.5.1          | 18.5 MB   | ##################################### | 100% \n",
      "netcdf4-1.4.2        | 480 KB    | ##################################### | 100% \n",
      "trmm_rsl-1.49        | 609 KB    | ##################################### | 100% \n",
      "Preparing transaction: done\n",
      "Verifying transaction: done\n",
      "Executing transaction: done\n"
     ]
    }
   ],
   "source": [
    "!conda install -c conda-forge -y arm_pyart"
   ]
  },
  {
   "cell_type": "code",
   "execution_count": 1,
   "metadata": {},
   "outputs": [],
   "source": [
    "import xarray, h5py\n",
    "import os, boto3\n",
    "from datetime import datetime, timedelta\n",
    "\n",
    "#from pyproj import Proj, Transformer\n",
    "from osgeo import gdal\n",
    "import wradlib as wrl"
   ]
  },
  {
   "cell_type": "markdown",
   "metadata": {},
   "source": [
    "Following function opens the geotiff image from S3 bucket and sample pixel value from requested coordinates. Note that images are in EPSG:3067 projection so we need to reproject the coordinates. \n",
    "\n",
    "Finally, pixel values are converted to millimeters. Conversions are documented here: https://en.ilmatieteenlaitos.fi/open-data-manual-radar-data."
   ]
  },
  {
   "cell_type": "code",
   "execution_count": 2,
   "metadata": {},
   "outputs": [],
   "source": [
    "def download(bucket_name, key, dst_root='/tmp'):\n",
    "    \"\"\" Download zarr directory from S3\"\"\"\n",
    "    s3 = boto3.resource('s3')\n",
    "    #resource.meta.client.meta.events.register('choose-signer.s3.*', disable_signing)\n",
    "    \n",
    "    bucket = s3.Bucket(bucket_name) \n",
    "    dst_filename = '{}/{}'.format(dst_root, key)\n",
    "    \n",
    "    for object in bucket.objects.filter(Prefix = key):\n",
    "        dst = dst_root+'/'+object.key\n",
    "        if not os.path.exists(os.path.dirname(dst)):\n",
    "            os.makedirs(os.path.dirname(dst))\n",
    "        s3.meta.client.download_file(bucket_name, key, dst_filename) \n",
    "    \n",
    "    return dst_filename"
   ]
  },
  {
   "cell_type": "code",
   "execution_count": 5,
   "metadata": {},
   "outputs": [],
   "source": [
    "from dask import delayed"
   ]
  },
  {
   "cell_type": "code",
   "execution_count": 8,
   "metadata": {},
   "outputs": [
    {
     "name": "stdout",
     "output_type": "stream",
     "text": [
      "/tmp/h5/201112312355_radar.polar.fivan.h5\n",
      "wradlib: Please wait for completion of time consuming task! \n",
      "wradlib: Please install 'tqdm' for showing a progress bar instead.\n",
      "wradlib: Please wait for completion of time consuming task! \n",
      "wradlib: Please install 'tqdm' for showing a progress bar instead.\n",
      "<wradlib.XRadVolume>\n",
      "Dimension(s): (sweep: 2)\n",
      "Elevation(s): (1.5, 3.0)\n",
      "wradlib: Please wait for completion of time consuming task! \n",
      "wradlib: Please install 'tqdm' for showing a progress bar instead.\n",
      "<xarray.Dataset>\n",
      "Dimensions:     (azimuth: 360, range: 500, time: 1)\n",
      "Coordinates:\n",
      "    longitude   float64 ...\n",
      "    elevation   (azimuth) float32 ...\n",
      "    sweep_mode  <U20 ...\n",
      "    latitude    float64 ...\n",
      "    rtime       (azimuth) datetime64[ns] ...\n",
      "    altitude    float64 ...\n",
      "  * range       (range) float32 250.0 750.0 1250.0 ... 249250.0 249750.0\n",
      "  * azimuth     (azimuth) float32 0.5 1.5 2.5 3.5 ... 356.5 357.5 358.5 359.5\n",
      "  * time        (time) datetime64[ns] 2011-12-31T23:55:58\n",
      "Data variables:\n",
      "    DBZH        (time, azimuth, range) float32 dask.array<chunksize=(1, 360, 500), meta=np.ndarray>\n"
     ]
    },
    {
     "data": {
      "text/plain": [
       "<matplotlib.collections.QuadMesh at 0x7fe9115acc18>"
      ]
     },
     "execution_count": 8,
     "metadata": {},
     "output_type": "execute_result"
    },
    {
     "data": {
      "image/png": "[encoded data removed]",
      "text/plain": [
       "<Figure size 432x288 with 1 Axes>"
      ]
     },
     "metadata": {
      "needs_background": "light"
     },
     "output_type": "display_data"
    }
   ],
   "source": [
    "#%%time\n",
    "fname = download('fmi-radar-opendata-sandbox', 'h5/201112312355_radar.polar.fivan.h5')\n",
    "print(fname)\n",
    "vol = wrl.io.xarray.open_odim(fname, loader='h5py', chunks={})\n",
    "print(vol)\n",
    "print(vol[0].data)\n",
    "vol[0].data.pipe(wrl.georef.georeference_dataset).DBZH[0].wradlib.plot()"
   ]
  },
  {
   "cell_type": "code",
   "execution_count": 23,
   "metadata": {},
   "outputs": [
    {
     "name": "stdout",
     "output_type": "stream",
     "text": [
      "<xarray.DataArray 'DBZH' (time: 1, azimuth: 360, range: 500)>\n",
      "dask.array<broadcast_to, shape=(1, 360, 500), dtype=float32, chunksize=(1, 360, 500), chunktype=numpy.ndarray>\n",
      "Coordinates:\n",
      "    longitude   float64 ...\n",
      "    elevation   (azimuth) float32 ...\n",
      "    sweep_mode  <U20 ...\n",
      "    latitude    float64 ...\n",
      "    rtime       (azimuth) datetime64[ns] ...\n",
      "    altitude    float64 ...\n",
      "  * range       (range) float32 250.0 750.0 1250.0 ... 249250.0 249750.0\n",
      "  * azimuth     (azimuth) float32 0.5 1.5 2.5 3.5 ... 356.5 357.5 358.5 359.5\n",
      "  * time        (time) datetime64[ns] 2011-12-31T23:55:58\n",
      "    x           (azimuth, range) float32 2.1808696 6.5425987 ... -2176.3635\n",
      "    y           (azimuth, range) float32 249.90216 749.7053 ... 249388.33\n",
      "    z           (azimuth, range) float32 90.0 103.0 116.0 ... 10264.0 10291.0\n",
      "    gr          (azimuth, range) float32 249.91168 749.7339 ... 249397.81\n",
      "    rays        (azimuth, range) float32 0.5 0.5 0.5 0.5 ... 359.5 359.5 359.5\n",
      "    bins        (azimuth, range) float32 250.0 750.0 ... 249250.0 249750.0\n",
      "Attributes:\n",
      "    IMAGE_VERSION:  1.2\n",
      "    _Undetect:      0.0\n",
      "    units:          dBZ\n",
      "    standard_name:  radar_equivalent_reflectivity_factor_h\n",
      "    long_name:      Equivalent reflectivity factor H\n"
     ]
    },
    {
     "data": {
      "text/plain": [
       "<matplotlib.collections.QuadMesh at 0x7fe9083f3550>"
      ]
     },
     "execution_count": 23,
     "metadata": {},
     "output_type": "execute_result"
    },
    {
     "data": {
      "image/png": "[encoded data removed]",
      "text/plain": [
       "<Figure size 432x288 with 2 Axes>"
      ]
     },
     "metadata": {
      "needs_background": "light"
     },
     "output_type": "display_data"
    }
   ],
   "source": [
    "print(vol[0].data.DBZH)\n",
    "vol[0].data.DBZH.plot()"
   ]
  },
  {
   "cell_type": "code",
   "execution_count": 37,
   "metadata": {},
   "outputs": [
    {
     "name": "stdout",
     "output_type": "stream",
     "text": [
      "<xarray.DataArray 'DBZH' (azimuth: 360, range: 500)>\n",
      "dask.array<getitem, shape=(360, 500), dtype=float32, chunksize=(360, 500), chunktype=numpy.ndarray>\n",
      "Coordinates:\n",
      "    longitude   float64 ...\n",
      "    elevation   (azimuth) float32 ...\n",
      "    sweep_mode  <U20 ...\n",
      "    latitude    float64 ...\n",
      "    rtime       (azimuth) datetime64[ns] ...\n",
      "    altitude    float64 ...\n",
      "  * range       (range) float32 250.0 750.0 1250.0 ... 249250.0 249750.0\n",
      "  * azimuth     (azimuth) float32 0.5 1.5 2.5 3.5 ... 356.5 357.5 358.5 359.5\n",
      "    time        datetime64[ns] 2011-12-31T23:55:58\n",
      "    x           (azimuth, range) float32 2.1808696 6.5425987 ... -2176.3635\n",
      "    y           (azimuth, range) float32 249.90216 749.7053 ... 249388.33\n",
      "    z           (azimuth, range) float32 90.0 103.0 116.0 ... 10264.0 10291.0\n",
      "    gr          (azimuth, range) float32 249.91168 749.7339 ... 249397.81\n",
      "    rays        (azimuth, range) float32 0.5 0.5 0.5 0.5 ... 359.5 359.5 359.5\n",
      "    bins        (azimuth, range) float32 250.0 750.0 ... 249250.0 249750.0\n",
      "Attributes:\n",
      "    IMAGE_VERSION:  1.2\n",
      "    _Undetect:      0.0\n",
      "    units:          dBZ\n",
      "    standard_name:  radar_equivalent_reflectivity_factor_h\n",
      "    long_name:      Equivalent reflectivity factor H\n"
     ]
    }
   ],
   "source": [
    "print(vol[0].data.DBZH.loc[dict(time=\"2011-12-31T23:55:58\")])\n",
    "\n",
    "#vol[0].data.DBZH.loc[dict(time=\"2011-12-31T23:55:58\")].plot.line(x='range')"
   ]
  },
  {
   "cell_type": "code",
   "execution_count": 4,
   "metadata": {},
   "outputs": [],
   "source": [
    "def process_timestep(bucket, key, lat, lon, mode='rr', timestep=300):\n",
    "    \"\"\" Process time step\n",
    "    \n",
    "    bucket   : str \n",
    "               S3 bucket name (where radar images exist)\n",
    "    key      : str\n",
    "               Radar image key in the bucket\n",
    "    lat      : float\n",
    "               Latitude of the point of interest\n",
    "    lon      : float\n",
    "               Longitude of the point of interest    \n",
    "    mode     : str\n",
    "               Defines how pixel values are converted to millimeters\n",
    "    timestep : int\n",
    "               Time step of radar images (used in pixel --> mm conversion)\n",
    "\n",
    "    Returns\n",
    "    -------\n",
    "    float \n",
    "         Precipitation amount in millimeters\n",
    "    \"\"\"\n",
    "\n",
    "    transformer = Transformer.from_crs(\"epsg:4326\", \"epsg:3067\")\n",
    "    x,y = transformer.transform(lat, lon)\n",
    "    \n",
    "    with rio.open('s3://{}/{}'.format(bucket, key)) as src:\n",
    "        #print(src.profile)\n",
    "        for val in src.sample([(x, y)]):\n",
    "            if mode == 'rr':\n",
    "                return val[0]*.01*timestep/3600\n",
    "            else:\n",
    "                raise Exception('mode not implemented')\n",
    "        \n",
    "    return 0"
   ]
  },
  {
   "cell_type": "markdown",
   "metadata": {},
   "source": [
    "Last, we define a function to go through requested time range"
   ]
  },
  {
   "cell_type": "code",
   "execution_count": 5,
   "metadata": {},
   "outputs": [],
   "source": [
    "def process_time_range(bucket, starttime, endtime, lat, lon, timestep, mode = 'rr', filename_start='', filename_end='_SUOMI500-rr.tif'):\n",
    "    \"\"\" Process time range \n",
    "    bucket    : str \n",
    "                S3 bucket name (where radar images exist)\n",
    "    starttime : str\n",
    "                Start time of the time range in format %Y-%m-%d %H:%M:%S\n",
    "    endtime   : str\n",
    "                End time of the time range in format %Y-%m-%d %H:%M:%S                \n",
    "    lat       : float\n",
    "                Latitude of the point of interest\n",
    "    lon       : float\n",
    "                Longitude of the point of interest    \n",
    "    timestep  : int\n",
    "                Time step of radar images\n",
    "    mode      : str\n",
    "                Defines how pixel values are converted to millimeters\n",
    "    filename_start : str\n",
    "                     For example path of the image. Images are assumed to found with name \n",
    "                     filename_start+timestamp+filename_end.  \n",
    "    filename_start : str\n",
    "                 Images are assumed to found with name filename_start+timestamp+filename_end.  \n",
    "                      \n",
    "    Returns\n",
    "    -------\n",
    "    float \n",
    "         Precipitation amount in millimeters\n",
    "    \n",
    "    \"\"\"\n",
    "    \n",
    "    start = roundTime(datetime.strptime(starttime, '%Y-%m-%d %H:%M:%S'))\n",
    "    end = roundTime(datetime.strptime(endtime, '%Y-%m-%d %H:%M:%S'))    \n",
    "    time_it = start\n",
    "    \n",
    "    prec_sum = 0\n",
    "    while time_it <= end:\n",
    "        key = '{}{}{}'.format(filename_start, time_it.strftime('%Y%m%d%H%M'), filename_end)\n",
    "        prec_sum += process_timestep(bucket, key, lat, lon, timestep=timestep)\n",
    "\n",
    "        if time_it.minute == 0: print('{:.2f}'.format(prec_sum), end='')\n",
    "        else: print('.', end='')\n",
    "            \n",
    "        time_it +=  timedelta(seconds=timestep)\n",
    "\n",
    "    print('')\n",
    "    return prec_sum"
   ]
  },
  {
   "cell_type": "markdown",
   "metadata": {},
   "source": [
    "And finally we run everything:"
   ]
  },
  {
   "cell_type": "code",
   "execution_count": 6,
   "metadata": {},
   "outputs": [
    {
     "name": "stdout",
     "output_type": "stream",
     "text": [
      "0.00...........0.00...........0.03...........0.08...........0.09...........0.09...........0.09...........0.28...........0.30...........0.93...........2.14...........2.21...........2.51...........4.24...........4.63...........4.63...........5.13...........8.11...........8.11...........8.11...........8.11...........8.11...........8.11...........8.11...........8.11\n",
      "Precipitation sum at 63.1593,29.8346 (Koli, Finland) on 10th July 2020 is 8.11 mm\n"
     ]
    }
   ],
   "source": [
    "bucket = 'fmi-radar-opendata-sandbox'\n",
    "starttime = '2020-07-10 00:00:00'\n",
    "endtime = '2020-07-10 23:59:00'\n",
    "lat = 63.1593\n",
    "lon = 29.8346\n",
    "\n",
    "prec_sum = process_time_range(bucket, starttime, endtime, lat, lon, 300)\n",
    "print('Precipitation sum at {},{} (Koli, Finland) on 10th July 2020 is {:.2f} mm'.format(lat,lon,prec_sum))"
   ]
  }
 ],
 "metadata": {
  "kernelspec": {
   "display_name": "fmiopendata",
   "language": "python",
   "name": "fmiopendata"
  },
  "language_info": {
   "codemirror_mode": {
    "name": "ipython",
    "version": 3
   },
   "file_extension": ".py",
   "mimetype": "text/x-python",
   "name": "python",
   "nbconvert_exporter": "python",
   "pygments_lexer": "ipython3",
   "version": "3.6.10"
  }
 },
 "nbformat": 4,
 "nbformat_minor": 4
}
